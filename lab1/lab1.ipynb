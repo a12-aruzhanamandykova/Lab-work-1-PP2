{
 "cells": [
  {
   "cell_type": "code",
   "execution_count": 10,
   "metadata": {},
   "outputs": [
    {
     "name": "stdout",
     "output_type": "stream",
     "text": [
      "Hello, World!\n"
     ]
    }
   ],
   "source": [
    "# Python Intro\n",
    "print(\"Hello, World!\")"
   ]
  },
  {
   "cell_type": "code",
   "execution_count": 11,
   "metadata": {},
   "outputs": [
    {
     "name": "stdout",
     "output_type": "stream",
     "text": [
      "sh is good city\n"
     ]
    }
   ],
   "source": [
    "# Python User Input/Output\n",
    "name = input (\"Enter your city: \")\n",
    "print (name + \" is good city\")"
   ]
  },
  {
   "cell_type": "code",
   "execution_count": 12,
   "metadata": {},
   "outputs": [
    {
     "name": "stdout",
     "output_type": "stream",
     "text": [
      "Welcome to Python!\n"
     ]
    }
   ],
   "source": [
    "# Python Get Started\n",
    "print (\"Welcome to Python!\")"
   ]
  },
  {
   "cell_type": "code",
   "execution_count": 13,
   "metadata": {},
   "outputs": [
    {
     "name": "stdout",
     "output_type": "stream",
     "text": [
      "5 greater than 2\n"
     ]
    }
   ],
   "source": [
    "# Python Syntax\n",
    "if 5 > 3:\n",
    "    print (\"5 greater than 2\")\n"
   ]
  },
  {
   "cell_type": "code",
   "execution_count": 14,
   "metadata": {},
   "outputs": [
    {
     "data": {
      "text/plain": [
       "'This is second way of\\ncommentin with more than 1 line'"
      ]
     },
     "execution_count": 14,
     "metadata": {},
     "output_type": "execute_result"
    }
   ],
   "source": [
    "# Python Comments\n",
    "# This is first way of commenting\n",
    "'''This is second way of\n",
    "commentin with more than 1 line'''"
   ]
  },
  {
   "cell_type": "code",
   "execution_count": 15,
   "metadata": {},
   "outputs": [],
   "source": [
    "# Python Variables:\n",
    "x = 5\n",
    "y = \"Python\""
   ]
  },
  {
   "cell_type": "code",
   "execution_count": 16,
   "metadata": {},
   "outputs": [],
   "source": [
    "# Python Data Types:\n",
    "x = 5   #integer\n",
    "y = \"Ohh\"   #string\n",
    "z = 3.0   #float\n",
    "w = True   #boolean(also we have False)"
   ]
  },
  {
   "cell_type": "code",
   "execution_count": 17,
   "metadata": {},
   "outputs": [
    {
     "name": "stdout",
     "output_type": "stream",
     "text": [
      "9\n",
      "3\n",
      "18\n",
      "2.0\n"
     ]
    }
   ],
   "source": [
    "# Python Numbers:\n",
    "x = 6\n",
    "y = 3\n",
    "print(x + y)  # Addition\n",
    "print(x - y)  # Subtraction\n",
    "print(x * y)  # Multiplication\n",
    "print(x / y)  # Division"
   ]
  },
  {
   "cell_type": "code",
   "execution_count": 22,
   "metadata": {},
   "outputs": [
    {
     "name": "stdout",
     "output_type": "stream",
     "text": [
      "l\n",
      "<built-in method upper of str object at 0x105682f30>\n",
      "<built-in method lower of str object at 0x105682f30>\n",
      "5\n"
     ]
    }
   ],
   "source": [
    "# Python Strings:\n",
    "txt = \"Hello\"\n",
    "print(txt[2])\n",
    "print(txt.upper)\n",
    "print(txt.lower)\n",
    "print(len(txt))"
   ]
  },
  {
   "cell_type": "code",
   "execution_count": 27,
   "metadata": {},
   "outputs": [
    {
     "name": "stdout",
     "output_type": "stream",
     "text": [
      "My name is ,Almat and I am 17 years old.\n"
     ]
    }
   ],
   "source": [
    "# Python String Formatting:\n",
    "name = \"Almat\"\n",
    "age = 17\n",
    "print(\"My name is ,\" + name + \" and \" + \"I am \" + str(age) + \" years old.\")"
   ]
  },
  {
   "cell_type": "code",
   "execution_count": 28,
   "metadata": {},
   "outputs": [
    {
     "name": "stdout",
     "output_type": "stream",
     "text": [
      "True\n",
      "False\n"
     ]
    }
   ],
   "source": [
    "# Python Booleans:\n",
    "print(5 > 2) # it gives True\n",
    "print(5 < 2) # it gives False"
   ]
  },
  {
   "cell_type": "code",
   "execution_count": 30,
   "metadata": {},
   "outputs": [
    {
     "name": "stdout",
     "output_type": "stream",
     "text": [
      "7\n",
      "True\n",
      "10\n",
      "25\n",
      "1\n",
      "True\n",
      "False\n",
      "True\n",
      "0\n"
     ]
    }
   ],
   "source": [
    "# Python Operators:\n",
    "x = 5\n",
    "y = 2\n",
    "print(x + y)  # Arithmetic\n",
    "print(x > y)  # Comparison\n",
    "print(x * y)  # Multiplication\n",
    "print(x ** y) # POWER!\n",
    "print(x % y) # Moduls\n",
    "print(x > 0 and y > 0)  # Logical\n",
    "print(x is y) # Identity\n",
    "print(x is not y) # Identity\n",
    "print(x & y) # Bitwise"
   ]
  },
  {
   "cell_type": "code",
   "execution_count": null,
   "metadata": {},
   "outputs": [],
   "source": [
    "#If/Else\n",
    "x = 5\n",
    "if x > 2:\n",
    "    print(\"x is greater than 2\")\n",
    "else:\n",
    "    print(\"x is less than or equal to 5\")"
   ]
  }
 ],
 "metadata": {
  "kernelspec": {
   "display_name": "Python 3",
   "language": "python",
   "name": "python3"
  },
  "language_info": {
   "codemirror_mode": {
    "name": "ipython",
    "version": 3
   },
   "file_extension": ".py",
   "mimetype": "text/x-python",
   "name": "python",
   "nbconvert_exporter": "python",
   "pygments_lexer": "ipython3",
   "version": "3.9.6"
  }
 },
 "nbformat": 4,
 "nbformat_minor": 2
}
